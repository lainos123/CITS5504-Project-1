{
 "cells": [
  {
   "cell_type": "markdown",
   "metadata": {},
   "source": [
    "In this notebook we will design the Data Warehouse for the datasets using Kimball's four steps"
   ]
  },
  {
   "cell_type": "markdown",
   "metadata": {},
   "source": [
    "### Step 1: Identify the Process"
   ]
  },
  {
   "cell_type": "markdown",
   "metadata": {},
   "source": [
    "The primary process being modeled is road **crashes** and **fatalities**. We are interested in understanding:\n",
    "- **Crashes**: Information about crashes themselves.\n",
    "- **Fatalities**: Information about individuals involved in crashes who have been fatally injured.\n",
    "\n",
    "This modeling process will allow us to analyse crash events and fatalities by various factors like time, location, person attributes, vehicle involvement and more.\n"
   ]
  },
  {
   "cell_type": "markdown",
   "metadata": {},
   "source": [
    "### Step 2: Determine the grain at which facts can be stored\n"
   ]
  },
  {
   "cell_type": "markdown",
   "metadata": {},
   "source": [
    "The **grain** (or level of detail) for the fact tables in this data warehouse is defined as follows:\n",
    "\n",
    "1. **Fact_Crashes**:\n",
    "   - One row per crash event, with detailed attributes like the date, location, time, vehicle involvement, and road type.\n",
    "\n",
    "2. **Fact_Fatalities**:\n",
    "   - One row per **fatality** associated with a singular fatality, capturing details about the persons age, gender and type of road user.\n",
    "\n",
    "3. **Fact_Number**:\n",
    "   - One row per date, containing aggregated metrics about the **total fatalities** and **total crashes** that occurred on that specific day.\n",
    "\n",
    "The grain of **Fact_Crashes** is at the level of a **single crash event**. This is where each crash's details, such as time, date, LGA, vehicles, and the event, are captured.\n",
    "\n",
    "The grain of **Fact_Fatalities** is at the level of a **single fatality** associated with a crash. It stores data about the individual involved, including demographics and the fatality count.\n",
    "\n",
    "The grain of **Fact_Number** is at the **date level**, where the total number of fatalities and crashes for each day are stored for high-level aggregation."
   ]
  },
  {
   "cell_type": "markdown",
   "metadata": {},
   "source": [
    "### Step 3: Choose the dimensions"
   ]
  },
  {
   "cell_type": "markdown",
   "metadata": {},
   "source": [
    "**Dim_Date**\n",
    "| Column Name | Description |\n",
    "|-------------|-------------|\n",
    "| `date_id` (PK) | Unique identifier for each date. |\n",
    "| `year` | Year of the crash/fatality. |\n",
    "| `month` | Month of the crash/fatality. |\n",
    "| `day` | Day of the month (e.g. 1-31). |\n",
    "| `day_of_week` | Day of the week (e.g., Monday, Tuesday). |\n",
    "| `is_weekend` | Boolean indicating if the crash occurred on a weekend. |\n",
    "\n",
    "**Dim_State**\n",
    "| Column Name | Description |\n",
    "|-------------|-------------|\n",
    "| `state_id` (PK) | Unique identifier for each state. |\n",
    "| `state_name` | Name of the state. |\n",
    "\n",
    "**Dim_LGA**\n",
    "| Column Name | Description |\n",
    "|-------------|-------------|\n",
    "| `lga_id` (PK) | Unique identifier for each LGA. |\n",
    "| `lga_name` | Local Government Area name. |\n",
    "| `state_id` (FK) | Reference to `Dim_State` table. |\n",
    "| `national_remoteness_area` | Area classification based on remoteness. |\n",
    "| `dwelling_count` | Number of dwellings in the LGA. |\n",
    "\n",
    "**Dim_Time**\n",
    "| Column Name | Description |\n",
    "|-------------|-------------|\n",
    "| `crash_id` (PK) | Unique identifier for the time. |\n",
    "| `crash_time` | Exact time of the crash (in timestamp format). |\n",
    "| `time_of_day` | Time of day (e.g., Morning, Afternoon, Evening). |\n",
    "\n",
    "**Dim_Vehicle**\n",
    "| Column Name | Description |\n",
    "|-------------|-------------|\n",
    "| `crash_id` (PK) | Unique identifier for vehicle data related to a crash. |\n",
    "| `bus_involvement` | Boolean indicating if a bus was involved. |\n",
    "| `heavy_rigid_truck_involvement` | Boolean indicating if a heavy rigid truck was involved. |\n",
    "| `articulated_truck_involvement` | Boolean indicating if an articulated truck was involved. |\n",
    "\n",
    "**Dim_Person**\n",
    "| Column Name | Description |\n",
    "|-------------|-------------|\n",
    "| `person_id` (PK) | Surrogate key made from a combination of `CrashID`, `Age`, `Gender`, `RoadUser`. |\n",
    "| `crash_id` (FK) | ID of the crash in which the person was involved. |\n",
    "| `gender` | Gender of the individual. |\n",
    "| `age` | Age of the individual. |\n",
    "| `age_group` | Age group of the individual (e.g., 18-25, 26-40). |\n",
    "| `road_user` | Type of road user (e.g., Pedestrian, Driver, Passenger). |\n",
    "\n",
    "**Dim_Event**\n",
    "| Column Name | Description |\n",
    "|-------------|-------------|\n",
    "| `crash_id` (PK) | Unique identifier for the event. |\n",
    "| `christmas_period` | Boolean indicating if the crash occurred during the Christmas period. |\n",
    "| `easter_period` | Boolean indicating if the crash occurred during the Easter period. |\n",
    "\n",
    "**Dim_Road**\n",
    "| Column Name | Description |\n",
    "|-------------|-------------|\n",
    "| `crash_id` (PK) | Unique identifier for road data. |\n",
    "| `speed_limit` | Speed limit of the road where the crash occurred. |\n",
    "| `national_road_type` | Type of road (e.g., highway, local road). |"
   ]
  },
  {
   "cell_type": "markdown",
   "metadata": {},
   "source": [
    "### Step 4: Identify the numeric measures for the facts"
   ]
  },
  {
   "cell_type": "markdown",
   "metadata": {},
   "source": [
    "\n",
    "\n",
    "**Fact_Crashes**\n",
    "| Column Name | Description |\n",
    "|-------------|-------------|\n",
    "| `crash_id` (PK) | Unique identifier for the crash event. |\n",
    "| `date_id` (FK) | Reference to `Dim_Date` table. |\n",
    "| `lga_id` (FK) | Reference to `Dim_LGA` table, which itself joind `Dim_State`. |\n",
    "| `state_id` (FK) | Reference to `Dim_State` table. |\n",
    "\n",
    "**Fact_Fatalities**\n",
    "| Column Name | Description |\n",
    "|-------------|-------------|\n",
    "| `fatality_id` (PK) | Unique identifier for each fatality. |\n",
    "| `person_id` (FK) | Reference to `Dim_Person` table. |\n",
    "| `crash_id` (FK) | Reference to `Fact_Crashes` table. |\n",
    "\n",
    "\n",
    " **Fact_Number**\n",
    "| Column Name | Description |\n",
    "|-------------|-------------|\n",
    "| `number_date_id` (PK) | Unique identifier for the daily summary record. |\n",
    "| `date_id` (FK) | Reference to `Dim_Date` table. |\n",
    "| `total_fatalities` | Total number of fatalities on the given date (and optionally by state). |\n",
    "| `total_crashes` | Total number of crashes on the given date (and optionally by state). |"
   ]
  }
 ],
 "metadata": {
  "language_info": {
   "name": "python"
  }
 },
 "nbformat": 4,
 "nbformat_minor": 2
}
